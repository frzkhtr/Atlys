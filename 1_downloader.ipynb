{
 "cells": [
  {
   "cell_type": "code",
   "execution_count": 1,
   "metadata": {},
   "outputs": [
    {
     "name": "stdout",
     "output_type": "stream",
     "text": [
      "--------------------------------------------------------------\n",
      "\n",
      "Downloading: 01_alb_id.zip\n"
     ]
    },
    {
     "name": "stderr",
     "output_type": "stream",
     "text": [
      "01_alb_id.zip: 657MB [27:14, 402kB/s]                                \n"
     ]
    },
    {
     "name": "stdout",
     "output_type": "stream",
     "text": [
      "Downloaded: 01_alb_id.zip\n",
      "Unzipping: 01_alb_id.zip\n",
      "Unzipped: 01_alb_id\n",
      "--------------------------------------------------------------\n",
      "\n",
      "Downloading: 02_aut_drvlic_new.zip\n"
     ]
    },
    {
     "name": "stderr",
     "output_type": "stream",
     "text": [
      "02_aut_drvlic_new.zip: 674MB [26:56, 417kB/s]                                \n"
     ]
    },
    {
     "name": "stdout",
     "output_type": "stream",
     "text": [
      "Downloaded: 02_aut_drvlic_new.zip\n",
      "Unzipping: 02_aut_drvlic_new.zip\n",
      "Unzipped: 02_aut_drvlic_new\n",
      "--------------------------------------------------------------\n",
      "\n",
      "Downloading: 03_aut_id_old.zip\n"
     ]
    },
    {
     "name": "stderr",
     "output_type": "stream",
     "text": [
      "03_aut_id_old.zip: 646MB [25:27, 423kB/s]                                \n"
     ]
    },
    {
     "name": "stdout",
     "output_type": "stream",
     "text": [
      "Downloaded: 03_aut_id_old.zip\n",
      "Unzipping: 03_aut_id_old.zip\n",
      "Unzipped: 03_aut_id_old\n",
      "--------------------------------------------------------------\n",
      "\n",
      "Downloading: 04_aut_id.zip\n"
     ]
    },
    {
     "name": "stderr",
     "output_type": "stream",
     "text": [
      "04_aut_id.zip: 652MB [28:25, 382kB/s]                                \n"
     ]
    },
    {
     "name": "stdout",
     "output_type": "stream",
     "text": [
      "Downloaded: 04_aut_id.zip\n",
      "Unzipping: 04_aut_id.zip\n",
      "Unzipped: 04_aut_id\n",
      "--------------------------------------------------------------\n",
      "\n",
      "Downloading: 05_aze_passport.zip\n"
     ]
    },
    {
     "name": "stderr",
     "output_type": "stream",
     "text": [
      "05_aze_passport.zip: 644MB [27:44, 387kB/s]                                \n"
     ]
    },
    {
     "name": "stdout",
     "output_type": "stream",
     "text": [
      "Downloaded: 05_aze_passport.zip\n",
      "Unzipping: 05_aze_passport.zip\n",
      "Unzipped: 05_aze_passport\n",
      "--------------------------------------------------------------\n",
      "\n",
      "Downloading: 06_bra_passport.zip\n"
     ]
    },
    {
     "name": "stderr",
     "output_type": "stream",
     "text": [
      "06_bra_passport.zip: 658MB [26:24, 415kB/s]                                \n"
     ]
    },
    {
     "name": "stdout",
     "output_type": "stream",
     "text": [
      "Downloaded: 06_bra_passport.zip\n",
      "Unzipping: 06_bra_passport.zip\n",
      "Unzipped: 06_bra_passport\n",
      "--------------------------------------------------------------\n",
      "\n",
      "Downloading: 07_chl_id.zip\n"
     ]
    },
    {
     "name": "stderr",
     "output_type": "stream",
     "text": [
      "07_chl_id.zip: 647MB [26:42, 404kB/s]                                \n"
     ]
    },
    {
     "name": "stdout",
     "output_type": "stream",
     "text": [
      "Downloaded: 07_chl_id.zip\n",
      "Unzipping: 07_chl_id.zip\n",
      "Unzipped: 07_chl_id\n",
      "--------------------------------------------------------------\n",
      "\n",
      "Downloading: 08_chn_homereturn.zip\n"
     ]
    },
    {
     "name": "stderr",
     "output_type": "stream",
     "text": [
      "08_chn_homereturn.zip: 640MB [25:16, 422kB/s]                                \n"
     ]
    },
    {
     "name": "stdout",
     "output_type": "stream",
     "text": [
      "Downloaded: 08_chn_homereturn.zip\n",
      "Unzipping: 08_chn_homereturn.zip\n",
      "Unzipped: 08_chn_homereturn\n",
      "--------------------------------------------------------------\n",
      "\n",
      "Downloading: 09_chn_id.zip\n"
     ]
    },
    {
     "name": "stderr",
     "output_type": "stream",
     "text": [
      "09_chn_id.zip: 601MB [26:37, 376kB/s]                                \n"
     ]
    },
    {
     "name": "stdout",
     "output_type": "stream",
     "text": [
      "Downloaded: 09_chn_id.zip\n",
      "Unzipping: 09_chn_id.zip\n",
      "Unzipped: 09_chn_id\n",
      "--------------------------------------------------------------\n",
      "\n",
      "Downloading: 10_cze_id.zip\n"
     ]
    },
    {
     "name": "stderr",
     "output_type": "stream",
     "text": [
      "10_cze_id.zip: 656MB [25:05, 435kB/s]                                \n"
     ]
    },
    {
     "name": "stdout",
     "output_type": "stream",
     "text": [
      "Downloaded: 10_cze_id.zip\n",
      "Unzipping: 10_cze_id.zip\n",
      "Unzipped: 10_cze_id\n",
      "--------------------------------------------------------------\n",
      "\n",
      "Downloading: 11_cze_passport.zip\n"
     ]
    },
    {
     "name": "stderr",
     "output_type": "stream",
     "text": [
      "11_cze_passport.zip: 673MB [27:44, 404kB/s]                                \n"
     ]
    },
    {
     "name": "stdout",
     "output_type": "stream",
     "text": [
      "Downloaded: 11_cze_passport.zip\n",
      "Unzipping: 11_cze_passport.zip\n",
      "Unzipped: 11_cze_passport\n",
      "--------------------------------------------------------------\n",
      "\n",
      "Downloading: 12_deu_drvlic_new.zip\n"
     ]
    },
    {
     "name": "stderr",
     "output_type": "stream",
     "text": [
      "12_deu_drvlic_new.zip: 668MB [26:49, 415kB/s]                                 \n"
     ]
    },
    {
     "name": "stdout",
     "output_type": "stream",
     "text": [
      "Downloaded: 12_deu_drvlic_new.zip\n",
      "Unzipping: 12_deu_drvlic_new.zip\n",
      "Unzipped: 12_deu_drvlic_new\n",
      "--------------------------------------------------------------\n",
      "\n",
      "Downloading: 13_deu_drvlic_old.zip\n"
     ]
    },
    {
     "name": "stderr",
     "output_type": "stream",
     "text": [
      "13_deu_drvlic_old.zip: 682MB [27:19, 416kB/s]                                 \n"
     ]
    },
    {
     "name": "stdout",
     "output_type": "stream",
     "text": [
      "Downloaded: 13_deu_drvlic_old.zip\n",
      "Unzipping: 13_deu_drvlic_old.zip\n",
      "Unzipped: 13_deu_drvlic_old\n",
      "--------------------------------------------------------------\n",
      "\n",
      "Downloading: 14_deu_id_new.zip\n"
     ]
    },
    {
     "name": "stderr",
     "output_type": "stream",
     "text": [
      "14_deu_id_new.zip: 657MB [24:50, 440kB/s]                                \n"
     ]
    },
    {
     "name": "stdout",
     "output_type": "stream",
     "text": [
      "Downloaded: 14_deu_id_new.zip\n",
      "Unzipping: 14_deu_id_new.zip\n",
      "Unzipped: 14_deu_id_new\n",
      "--------------------------------------------------------------\n",
      "\n",
      "Downloading: 15_deu_id_old.zip\n"
     ]
    },
    {
     "name": "stderr",
     "output_type": "stream",
     "text": [
      "15_deu_id_old.zip: 695MB [26:09, 443kB/s]                                \n"
     ]
    },
    {
     "name": "stdout",
     "output_type": "stream",
     "text": [
      "Downloaded: 15_deu_id_old.zip\n",
      "Unzipping: 15_deu_id_old.zip\n",
      "Unzipped: 15_deu_id_old\n",
      "--------------------------------------------------------------\n",
      "\n",
      "Downloading: 16_deu_passport_new.zip\n"
     ]
    },
    {
     "name": "stderr",
     "output_type": "stream",
     "text": [
      "16_deu_passport_new.zip: 647MB [25:04, 430kB/s]                                \n"
     ]
    },
    {
     "name": "stdout",
     "output_type": "stream",
     "text": [
      "Downloaded: 16_deu_passport_new.zip\n",
      "Unzipping: 16_deu_passport_new.zip\n",
      "Unzipped: 16_deu_passport_new\n",
      "--------------------------------------------------------------\n",
      "\n",
      "Downloading: 17_deu_passport_old.zip\n"
     ]
    },
    {
     "name": "stderr",
     "output_type": "stream",
     "text": [
      "17_deu_passport_old.zip: 669MB [28:29, 391kB/s]                                \n"
     ]
    },
    {
     "name": "stdout",
     "output_type": "stream",
     "text": [
      "Downloaded: 17_deu_passport_old.zip\n",
      "Unzipping: 17_deu_passport_old.zip\n",
      "Unzipped: 17_deu_passport_old\n",
      "--------------------------------------------------------------\n",
      "\n",
      "Downloading: 18_dza_passport.zip\n"
     ]
    },
    {
     "name": "stderr",
     "output_type": "stream",
     "text": [
      "18_dza_passport.zip: 656MB [24:58, 438kB/s]                                \n"
     ]
    },
    {
     "name": "stdout",
     "output_type": "stream",
     "text": [
      "Downloaded: 18_dza_passport.zip\n",
      "Unzipping: 18_dza_passport.zip\n",
      "Unzipped: 18_dza_passport\n",
      "--------------------------------------------------------------\n",
      "\n",
      "Downloading: 19_esp_drvlic.zip\n"
     ]
    },
    {
     "name": "stderr",
     "output_type": "stream",
     "text": [
      "19_esp_drvlic.zip: 628MB [23:47, 440kB/s]                                \n"
     ]
    },
    {
     "name": "stdout",
     "output_type": "stream",
     "text": [
      "Downloaded: 19_esp_drvlic.zip\n",
      "Unzipping: 19_esp_drvlic.zip\n",
      "Unzipped: 19_esp_drvlic\n",
      "--------------------------------------------------------------\n",
      "\n",
      "Downloading: 20_esp_id_new.zip\n"
     ]
    },
    {
     "name": "stderr",
     "output_type": "stream",
     "text": [
      "20_esp_id_new.zip: 671MB [25:43, 435kB/s]                                 \n"
     ]
    },
    {
     "name": "stdout",
     "output_type": "stream",
     "text": [
      "Downloaded: 20_esp_id_new.zip\n",
      "Unzipping: 20_esp_id_new.zip\n",
      "Unzipped: 20_esp_id_new\n",
      "--------------------------------------------------------------\n",
      "\n",
      "Downloading: 21_esp_id_old.zip\n"
     ]
    },
    {
     "name": "stderr",
     "output_type": "stream",
     "text": [
      "21_esp_id_old.zip: 669MB [25:51, 431kB/s]                                \n"
     ]
    },
    {
     "name": "stdout",
     "output_type": "stream",
     "text": [
      "Downloaded: 21_esp_id_old.zip\n",
      "Unzipping: 21_esp_id_old.zip\n",
      "Unzipped: 21_esp_id_old\n",
      "--------------------------------------------------------------\n",
      "\n",
      "Downloading: 22_est_id.zip\n"
     ]
    },
    {
     "name": "stderr",
     "output_type": "stream",
     "text": [
      "22_est_id.zip: 669MB [25:25, 439kB/s]                                \n"
     ]
    },
    {
     "name": "stdout",
     "output_type": "stream",
     "text": [
      "Downloaded: 22_est_id.zip\n",
      "Unzipping: 22_est_id.zip\n",
      "Unzipped: 22_est_id\n",
      "--------------------------------------------------------------\n",
      "\n",
      "Downloading: 23_fin_drvlic.zip\n"
     ]
    },
    {
     "name": "stderr",
     "output_type": "stream",
     "text": [
      "23_fin_drvlic.zip: 652MB [26:07, 416kB/s]                                \n"
     ]
    },
    {
     "name": "stdout",
     "output_type": "stream",
     "text": [
      "Downloaded: 23_fin_drvlic.zip\n",
      "Unzipping: 23_fin_drvlic.zip\n",
      "Unzipped: 23_fin_drvlic\n",
      "--------------------------------------------------------------\n",
      "\n",
      "Downloading: 24_fin_id.zip\n"
     ]
    },
    {
     "name": "stderr",
     "output_type": "stream",
     "text": [
      "24_fin_id.zip: 667MB [26:00, 428kB/s]                                \n"
     ]
    },
    {
     "name": "stdout",
     "output_type": "stream",
     "text": [
      "Downloaded: 24_fin_id.zip\n",
      "Unzipping: 24_fin_id.zip\n",
      "Unzipped: 24_fin_id\n",
      "--------------------------------------------------------------\n",
      "\n",
      "Downloading: 25_grc_passport.zip\n"
     ]
    },
    {
     "name": "stderr",
     "output_type": "stream",
     "text": [
      "25_grc_passport.zip: 644MB [25:41, 418kB/s]                                \n"
     ]
    },
    {
     "name": "stdout",
     "output_type": "stream",
     "text": [
      "Downloaded: 25_grc_passport.zip\n",
      "Unzipping: 25_grc_passport.zip\n",
      "Unzipped: 25_grc_passport\n",
      "--------------------------------------------------------------\n",
      "\n",
      "Downloading: 26_hrv_drvlic.zip\n"
     ]
    },
    {
     "name": "stderr",
     "output_type": "stream",
     "text": [
      "26_hrv_drvlic.zip: 644MB [26:05, 411kB/s]                                \n"
     ]
    },
    {
     "name": "stdout",
     "output_type": "stream",
     "text": [
      "Downloaded: 26_hrv_drvlic.zip\n",
      "Unzipping: 26_hrv_drvlic.zip\n",
      "Unzipped: 26_hrv_drvlic\n",
      "--------------------------------------------------------------\n",
      "\n",
      "Downloading: 27_hrv_passport.zip\n"
     ]
    },
    {
     "name": "stderr",
     "output_type": "stream",
     "text": [
      "27_hrv_passport.zip: 671MB [27:37, 405kB/s]                                 \n"
     ]
    },
    {
     "name": "stdout",
     "output_type": "stream",
     "text": [
      "Downloaded: 27_hrv_passport.zip\n",
      "Unzipping: 27_hrv_passport.zip\n",
      "Unzipped: 27_hrv_passport\n",
      "--------------------------------------------------------------\n",
      "\n",
      "Downloading: 28_hun_passport.zip\n"
     ]
    },
    {
     "name": "stderr",
     "output_type": "stream",
     "text": [
      "28_hun_passport.zip: 662MB [25:55, 426kB/s]                                \n"
     ]
    },
    {
     "name": "stdout",
     "output_type": "stream",
     "text": [
      "Downloaded: 28_hun_passport.zip\n",
      "Unzipping: 28_hun_passport.zip\n",
      "Unzipped: 28_hun_passport\n",
      "--------------------------------------------------------------\n",
      "\n",
      "Downloading: 29_irn_drvlic.zip\n"
     ]
    },
    {
     "name": "stderr",
     "output_type": "stream",
     "text": [
      "29_irn_drvlic.zip: 666MB [26:56, 412kB/s]                                \n"
     ]
    },
    {
     "name": "stdout",
     "output_type": "stream",
     "text": [
      "Downloaded: 29_irn_drvlic.zip\n",
      "Unzipping: 29_irn_drvlic.zip\n",
      "Unzipped: 29_irn_drvlic\n",
      "--------------------------------------------------------------\n",
      "\n",
      "Downloading: 30_ita_drvlic.zip\n"
     ]
    },
    {
     "name": "stderr",
     "output_type": "stream",
     "text": [
      "30_ita_drvlic.zip: 653MB [24:24, 446kB/s]                                \n"
     ]
    },
    {
     "name": "stdout",
     "output_type": "stream",
     "text": [
      "Downloaded: 30_ita_drvlic.zip\n",
      "Unzipping: 30_ita_drvlic.zip\n",
      "Unzipped: 30_ita_drvlic\n",
      "--------------------------------------------------------------\n",
      "\n",
      "Downloading: 31_jpn_drvlic.zip\n"
     ]
    },
    {
     "name": "stderr",
     "output_type": "stream",
     "text": [
      "31_jpn_drvlic.zip: 666MB [27:54, 397kB/s]                                \n"
     ]
    },
    {
     "name": "stdout",
     "output_type": "stream",
     "text": [
      "Downloaded: 31_jpn_drvlic.zip\n",
      "Unzipping: 31_jpn_drvlic.zip\n",
      "Unzipped: 31_jpn_drvlic\n",
      "--------------------------------------------------------------\n",
      "\n",
      "Downloading: 32_lva_passport.zip\n"
     ]
    },
    {
     "name": "stderr",
     "output_type": "stream",
     "text": [
      "32_lva_passport.zip: 643MB [25:07, 427kB/s]                                \n"
     ]
    },
    {
     "name": "stdout",
     "output_type": "stream",
     "text": [
      "Downloaded: 32_lva_passport.zip\n",
      "Unzipping: 32_lva_passport.zip\n",
      "Unzipped: 32_lva_passport\n",
      "--------------------------------------------------------------\n",
      "\n",
      "Downloading: 33_mac_id.zip\n"
     ]
    },
    {
     "name": "stderr",
     "output_type": "stream",
     "text": [
      "33_mac_id.zip: 677MB [26:50, 421kB/s]                                 \n"
     ]
    },
    {
     "name": "stdout",
     "output_type": "stream",
     "text": [
      "Downloaded: 33_mac_id.zip\n",
      "Unzipping: 33_mac_id.zip\n",
      "Unzipped: 33_mac_id\n",
      "--------------------------------------------------------------\n",
      "\n",
      "Downloading: 34_mda_passport.zip\n"
     ]
    },
    {
     "name": "stderr",
     "output_type": "stream",
     "text": [
      "34_mda_passport.zip: 632MB [26:31, 397kB/s]                                \n"
     ]
    },
    {
     "name": "stdout",
     "output_type": "stream",
     "text": [
      "Downloaded: 34_mda_passport.zip\n",
      "Unzipping: 34_mda_passport.zip\n",
      "Unzipped: 34_mda_passport\n",
      "--------------------------------------------------------------\n",
      "\n",
      "Downloading: 35_nor_drvlic.zip\n"
     ]
    },
    {
     "name": "stderr",
     "output_type": "stream",
     "text": [
      "35_nor_drvlic.zip: 664MB [26:46, 413kB/s]                                \n"
     ]
    },
    {
     "name": "stdout",
     "output_type": "stream",
     "text": [
      "Downloaded: 35_nor_drvlic.zip\n",
      "Unzipping: 35_nor_drvlic.zip\n",
      "Unzipped: 35_nor_drvlic\n",
      "--------------------------------------------------------------\n",
      "\n",
      "Downloading: 36_pol_drvlic.zip\n"
     ]
    },
    {
     "name": "stderr",
     "output_type": "stream",
     "text": [
      "36_pol_drvlic.zip: 678MB [27:11, 416kB/s]                                \n"
     ]
    },
    {
     "name": "stdout",
     "output_type": "stream",
     "text": [
      "Downloaded: 36_pol_drvlic.zip\n",
      "Unzipping: 36_pol_drvlic.zip\n",
      "Unzipped: 36_pol_drvlic\n",
      "--------------------------------------------------------------\n",
      "\n",
      "Downloading: 37_prt_id.zip\n"
     ]
    },
    {
     "name": "stderr",
     "output_type": "stream",
     "text": [
      "37_prt_id.zip: 627MB [25:26, 411kB/s]                                \n"
     ]
    },
    {
     "name": "stdout",
     "output_type": "stream",
     "text": [
      "Downloaded: 37_prt_id.zip\n",
      "Unzipping: 37_prt_id.zip\n",
      "Unzipped: 37_prt_id\n",
      "--------------------------------------------------------------\n",
      "\n",
      "Downloading: 38_rou_drvlic.zip\n"
     ]
    },
    {
     "name": "stderr",
     "output_type": "stream",
     "text": [
      "38_rou_drvlic.zip: 642MB [25:51, 414kB/s]                                \n"
     ]
    },
    {
     "name": "stdout",
     "output_type": "stream",
     "text": [
      "Downloaded: 38_rou_drvlic.zip\n",
      "Unzipping: 38_rou_drvlic.zip\n",
      "Unzipped: 38_rou_drvlic\n",
      "--------------------------------------------------------------\n",
      "\n",
      "Downloading: 39_rus_internalpassport.zip\n"
     ]
    },
    {
     "name": "stderr",
     "output_type": "stream",
     "text": [
      "39_rus_internalpassport.zip: 635MB [25:32, 414kB/s]                                \n"
     ]
    },
    {
     "name": "stdout",
     "output_type": "stream",
     "text": [
      "Downloaded: 39_rus_internalpassport.zip\n",
      "Unzipping: 39_rus_internalpassport.zip\n",
      "Unzipped: 39_rus_internalpassport\n",
      "--------------------------------------------------------------\n",
      "\n",
      "Downloading: 40_srb_id.zip\n"
     ]
    },
    {
     "name": "stderr",
     "output_type": "stream",
     "text": [
      "40_srb_id.zip: 674MB [26:52, 418kB/s]                                \n"
     ]
    },
    {
     "name": "stdout",
     "output_type": "stream",
     "text": [
      "Downloaded: 40_srb_id.zip\n",
      "Unzipping: 40_srb_id.zip\n",
      "Unzipped: 40_srb_id\n",
      "--------------------------------------------------------------\n",
      "\n",
      "Downloading: 41_srb_passport.zip\n"
     ]
    },
    {
     "name": "stderr",
     "output_type": "stream",
     "text": [
      "41_srb_passport.zip: 670MB [23:58, 466kB/s]                                \n"
     ]
    },
    {
     "name": "stdout",
     "output_type": "stream",
     "text": [
      "Downloaded: 41_srb_passport.zip\n",
      "Unzipping: 41_srb_passport.zip\n",
      "Unzipped: 41_srb_passport\n",
      "--------------------------------------------------------------\n",
      "\n",
      "Downloading: 42_svk_id.zip\n"
     ]
    },
    {
     "name": "stderr",
     "output_type": "stream",
     "text": [
      "42_svk_id.zip: 692MB [28:19, 407kB/s]                                \n"
     ]
    },
    {
     "name": "stdout",
     "output_type": "stream",
     "text": [
      "Downloaded: 42_svk_id.zip\n",
      "Unzipping: 42_svk_id.zip\n",
      "Unzipped: 42_svk_id\n",
      "--------------------------------------------------------------\n",
      "\n",
      "Downloading: 43_tur_id.zip\n"
     ]
    },
    {
     "name": "stderr",
     "output_type": "stream",
     "text": [
      "43_tur_id.zip: 625MB [25:17, 412kB/s]                                \n"
     ]
    },
    {
     "name": "stdout",
     "output_type": "stream",
     "text": [
      "Downloaded: 43_tur_id.zip\n",
      "Unzipping: 43_tur_id.zip\n",
      "Unzipped: 43_tur_id\n",
      "--------------------------------------------------------------\n",
      "\n",
      "Downloading: 44_ukr_id.zip\n"
     ]
    },
    {
     "name": "stderr",
     "output_type": "stream",
     "text": [
      "44_ukr_id.zip: 630MB [25:47, 407kB/s]                                \n"
     ]
    },
    {
     "name": "stdout",
     "output_type": "stream",
     "text": [
      "Downloaded: 44_ukr_id.zip\n",
      "Unzipping: 44_ukr_id.zip\n",
      "Unzipped: 44_ukr_id\n",
      "--------------------------------------------------------------\n",
      "\n",
      "Downloading: 45_ukr_passport.zip\n"
     ]
    },
    {
     "name": "stderr",
     "output_type": "stream",
     "text": [
      "45_ukr_passport.zip: 625MB [23:59, 434kB/s]                                \n"
     ]
    },
    {
     "name": "stdout",
     "output_type": "stream",
     "text": [
      "Downloaded: 45_ukr_passport.zip\n",
      "Unzipping: 45_ukr_passport.zip\n",
      "Unzipped: 45_ukr_passport\n",
      "--------------------------------------------------------------\n",
      "\n",
      "Downloading: 46_ury_passport.zip\n"
     ]
    },
    {
     "name": "stderr",
     "output_type": "stream",
     "text": [
      "46_ury_passport.zip: 644MB [24:54, 431kB/s]                                \n"
     ]
    },
    {
     "name": "stdout",
     "output_type": "stream",
     "text": [
      "Downloaded: 46_ury_passport.zip\n",
      "Unzipping: 46_ury_passport.zip\n",
      "Unzipped: 46_ury_passport\n",
      "--------------------------------------------------------------\n",
      "\n",
      "Downloading: 47_usa_bordercrossing.zip\n"
     ]
    },
    {
     "name": "stderr",
     "output_type": "stream",
     "text": [
      "47_usa_bordercrossing.zip: 691MB [28:09, 409kB/s]                                \n"
     ]
    },
    {
     "name": "stdout",
     "output_type": "stream",
     "text": [
      "Downloaded: 47_usa_bordercrossing.zip\n",
      "Unzipping: 47_usa_bordercrossing.zip\n",
      "Unzipped: 47_usa_bordercrossing\n",
      "--------------------------------------------------------------\n",
      "\n",
      "Downloading: 48_usa_passportcard.zip\n"
     ]
    },
    {
     "name": "stderr",
     "output_type": "stream",
     "text": [
      "48_usa_passportcard.zip: 687MB [27:10, 421kB/s]                                \n"
     ]
    },
    {
     "name": "stdout",
     "output_type": "stream",
     "text": [
      "Downloaded: 48_usa_passportcard.zip\n",
      "Unzipping: 48_usa_passportcard.zip\n",
      "Unzipped: 48_usa_passportcard\n",
      "--------------------------------------------------------------\n",
      "\n",
      "Downloading: 49_usa_ssn82.zip\n"
     ]
    },
    {
     "name": "stderr",
     "output_type": "stream",
     "text": [
      "49_usa_ssn82.zip: 670MB [25:57, 430kB/s]                                \n"
     ]
    },
    {
     "name": "stdout",
     "output_type": "stream",
     "text": [
      "Downloaded: 49_usa_ssn82.zip\n",
      "Unzipping: 49_usa_ssn82.zip\n",
      "Unzipped: 49_usa_ssn82\n",
      "--------------------------------------------------------------\n",
      "\n",
      "Downloading: 50_xpo_id.zip\n"
     ]
    },
    {
     "name": "stderr",
     "output_type": "stream",
     "text": [
      "50_xpo_id.zip: 663MB [27:31, 402kB/s]                                \n"
     ]
    },
    {
     "name": "stdout",
     "output_type": "stream",
     "text": [
      "Downloaded: 50_xpo_id.zip\n",
      "Unzipping: 50_xpo_id.zip\n",
      "Unzipped: 50_xpo_id\n"
     ]
    }
   ],
   "source": [
    "import midv500\n",
    "dataset_dir = './midv500_data/'\n",
    "dataset_name = \"midv500\"\n",
    "midv500.download_dataset(dataset_dir, dataset_name)"
   ]
  },
  {
   "cell_type": "code",
   "execution_count": 1,
   "metadata": {},
   "outputs": [],
   "source": [
    "def get_directory_structure(rootdir):\n",
    "    \"\"\"\n",
    "    Creates a nested dictionary that represents the folder structure of rootdir\n",
    "    \"\"\"\n",
    "    dir_structure = {}\n",
    "    rootdir = rootdir.rstrip(os.sep)\n",
    "    start = rootdir.rfind(os.sep) + 1\n",
    "\n",
    "    for path, dirs, files in os.walk(rootdir):\n",
    "        folders = path[start:].split(os.sep)\n",
    "        subdir = dict.fromkeys(files)\n",
    "        parent = reduce(dict.get, folders[:-1], dir_structure)\n",
    "        parent[folders[-1]] = subdir\n",
    "\n",
    "    return dir_structure"
   ]
  },
  {
   "cell_type": "code",
   "execution_count": 4,
   "metadata": {},
   "outputs": [],
   "source": [
    "import json\n",
    "import os\n",
    "from functools import reduce\n",
    "root_directory = './midv500_data'  # replace with your root directory\n",
    "dir_structure = get_directory_structure(root_directory)\n",
    "json_structure = json.dumps(dir_structure, indent=4)"
   ]
  },
  {
   "cell_type": "code",
   "execution_count": 6,
   "metadata": {},
   "outputs": [],
   "source": [
    "with open('.\\directory_structure.json', 'w') as f:\n",
    "        f.write(json_structure)"
   ]
  },
  {
   "cell_type": "code",
   "execution_count": null,
   "metadata": {},
   "outputs": [],
   "source": []
  }
 ],
 "metadata": {
  "kernelspec": {
   "display_name": "mdf500",
   "language": "python",
   "name": "python3"
  },
  "language_info": {
   "codemirror_mode": {
    "name": "ipython",
    "version": 3
   },
   "file_extension": ".py",
   "mimetype": "text/x-python",
   "name": "python",
   "nbconvert_exporter": "python",
   "pygments_lexer": "ipython3",
   "version": "3.9.19"
  }
 },
 "nbformat": 4,
 "nbformat_minor": 2
}
